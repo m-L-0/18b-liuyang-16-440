{
 "cells": [
  {
   "cell_type": "code",
   "execution_count": 10,
   "metadata": {},
   "outputs": [],
   "source": [
    "import tensorflow as tf\n",
    "from sklearn.datasets import load_iris\n",
    "from sklearn import model_selection\n",
    "import numpy as np\n",
    "\n",
    "tf.enable_eager_execution()\n",
    "\n",
    "data = load_iris()\n",
    "x=data.data\n",
    "y=data.target\n",
    "X_train, X_test, y_train, y_test = model_selection.train_test_split(x, y, test_size=0.2, shuffle=True)\n"
   ]
  },
  {
   "cell_type": "code",
   "execution_count": 11,
   "metadata": {},
   "outputs": [
    {
     "name": "stdout",
     "output_type": "stream",
     "text": [
      "[2, 2, 2, 0, 1, 0, 1, 2, 1, 2, 1, 0, 0, 1, 0, 1, 2, 0, 1, 2, 0, 2, 0, 2, 2, 1, 0, 2, 2, 2]\n",
      "28\n",
      "[2, 2, 2, 0, 1, 0, 1, 2, 1, 2, 1, 0, 0, 1, 0, 1, 2, 0, 1, 2, 0, 2, 0, 2, 2, 1, 0, 2, 2, 2]\n",
      "28\n",
      "[2, 2, 2, 0, 1, 0, 1, 2, 1, 2, 1, 0, 0, 1, 0, 1, 2, 0, 1, 2, 0, 2, 0, 2, 2, 1, 0, 2, 2, 2]\n",
      "28\n",
      "[2, 2, 2, 0, 1, 0, 1, 2, 1, 2, 1, 0, 0, 1, 0, 1, 2, 0, 1, 2, 0, 2, 0, 2, 2, 1, 0, 2, 2, 2]\n",
      "28\n",
      "[2, 2, 2, 0, 1, 0, 1, 2, 1, 2, 1, 0, 0, 1, 0, 1, 2, 0, 1, 2, 0, 2, 0, 2, 2, 1, 0, 2, 2, 2]\n",
      "28\n",
      "[2, 2, 2, 0, 1, 0, 1, 2, 1, 2, 1, 0, 0, 1, 0, 1, 2, 0, 1, 2, 0, 2, 0, 2, 2, 1, 0, 2, 2, 2]\n",
      "28\n",
      "[2, 2, 2, 0, 1, 0, 1, 2, 1, 2, 1, 0, 0, 1, 0, 1, 2, 0, 1, 2, 0, 2, 0, 2, 2, 1, 0, 2, 2, 2]\n",
      "28\n",
      "[2, 2, 2, 0, 1, 0, 1, 2, 1, 2, 1, 0, 0, 1, 0, 1, 2, 0, 1, 2, 0, 2, 0, 2, 2, 1, 0, 2, 2, 2]\n",
      "28\n",
      "[2, 2, 2, 0, 1, 0, 1, 2, 1, 2, 1, 0, 0, 1, 0, 1, 2, 0, 1, 2, 0, 2, 0, 2, 2, 1, 0, 2, 2, 2]\n",
      "28\n",
      "[2, 2, 2, 0, 1, 0, 1, 2, 1, 2, 1, 0, 0, 1, 0, 1, 2, 0, 1, 2, 0, 1, 0, 2, 2, 1, 0, 2, 2, 2]\n",
      "29\n",
      "[2, 2, 2, 0, 1, 0, 1, 2, 1, 2, 1, 0, 0, 1, 0, 1, 2, 0, 1, 2, 0, 2, 0, 2, 2, 1, 0, 2, 2, 2]\n",
      "28\n",
      "[2, 2, 2, 0, 1, 0, 1, 2, 1, 2, 1, 0, 0, 1, 0, 1, 2, 0, 1, 2, 0, 2, 0, 2, 2, 1, 0, 2, 2, 2]\n",
      "28\n",
      "[2, 2, 2, 0, 1, 0, 1, 2, 1, 2, 1, 0, 0, 1, 0, 1, 2, 0, 1, 2, 0, 2, 0, 2, 2, 1, 0, 2, 2, 2]\n",
      "28\n",
      "[2, 2, 2, 0, 1, 0, 1, 2, 1, 2, 1, 0, 0, 1, 0, 1, 2, 0, 1, 2, 0, 1, 0, 2, 2, 1, 0, 2, 2, 2]\n",
      "29\n",
      "[2, 2, 2, 0, 1, 0, 1, 2, 1, 2, 1, 0, 0, 1, 0, 1, 2, 0, 1, 2, 0, 2, 0, 2, 2, 1, 0, 2, 2, 2]\n",
      "28\n",
      "[2, 2, 2, 0, 1, 0, 1, 2, 1, 2, 1, 0, 0, 1, 0, 1, 2, 0, 1, 2, 0, 1, 0, 2, 2, 1, 0, 2, 2, 2]\n",
      "29\n",
      "[2, 2, 2, 0, 1, 0, 1, 2, 1, 2, 1, 0, 0, 1, 0, 1, 2, 0, 1, 2, 0, 2, 0, 2, 2, 1, 0, 2, 2, 2]\n",
      "28\n",
      "[2, 2, 2, 0, 1, 0, 1, 2, 1, 2, 1, 0, 0, 1, 0, 1, 2, 0, 1, 2, 0, 2, 0, 2, 2, 1, 0, 2, 2, 2]\n",
      "28\n",
      "[2, 2, 2, 0, 1, 0, 1, 2, 1, 2, 1, 0, 0, 1, 0, 1, 2, 0, 1, 2, 0, 2, 0, 2, 2, 1, 0, 2, 2, 2]\n",
      "28\n",
      "[2, 2, 2, 0, 1, 0, 1, 2, 1, 2, 1, 0, 0, 1, 0, 1, 2, 0, 1, 2, 0, 2, 0, 2, 2, 1, 0, 2, 2, 2]\n",
      "28\n"
     ]
    }
   ],
   "source": [
    "def Distance(i):\n",
    "    A=X_train-X_test[i]\n",
    "    TensorDistance=tf.reduce_sum(tf.multiply(A,A),1)\n",
    "    distance=[*TensorDistance.numpy()]\n",
    "    distance[i]=np.inf\n",
    "    return distance\n",
    "\n",
    "def KNeighboring(i,K):\n",
    "    index=[]\n",
    "    distance=Distance(i)\n",
    "    for i in range(K):\n",
    "        temp=distance.index(min(distance))\n",
    "        index.append(temp)\n",
    "        distance[temp]=np.inf\n",
    "    return index\n",
    "\n",
    "#传入K个近邻的索引\n",
    "#返回决策结果\n",
    "def Decision(index):\n",
    "    labels=y_train[index]\n",
    "    Set=set(labels.tolist())\n",
    "    result={}\n",
    "    for i in Set:\n",
    "        result[i]=np.sum(labels==i)\n",
    "    maxvalue=max(result.values())\n",
    "    for i in Set:\n",
    "        if result[i]==maxvalue:\n",
    "            return i\n",
    "#K的取值为1-20\n",
    "K=[i for i in range(1,21)]\n",
    "Accuracy=[]\n",
    "for k in K:\n",
    "    Result=[]\n",
    "    for i in range(len(X_test)):\n",
    "        index=KNeighboring(i,k)\n",
    "        result=Decision(index)\n",
    "        Result.append(result)\n",
    "    print(Result)\n",
    "    right=tf.reduce_sum((y_test==Result).astype(int),0).numpy()\n",
    "    print(right)\n",
    "    accuracy=right/len(X_test)\n",
    "    Accuracy.append(accuracy)"
   ]
  },
  {
   "cell_type": "code",
   "execution_count": 12,
   "metadata": {},
   "outputs": [
    {
     "name": "stdout",
     "output_type": "stream",
     "text": [
      "Using matplotlib backend: Qt5Agg\n"
     ]
    }
   ],
   "source": [
    "#可视化\n",
    "%matplotlib\n",
    "import matplotlib.pyplot as plt\n",
    "plt.plot(K, Accuracy,'r',marker='o') \n",
    "plt.ylabel('Accuracy')\n",
    "plt.title('Accuracy of K')\n",
    "plt.locator_params('x',nbins=40)\n",
    "plt.locator_params('y',nbins=20)\n",
    "plt.show()"
   ]
  },
  {
   "cell_type": "code",
   "execution_count": null,
   "metadata": {},
   "outputs": [],
   "source": []
  }
 ],
 "metadata": {
  "kernelspec": {
   "display_name": "Python 3",
   "language": "python",
   "name": "python3"
  },
  "language_info": {
   "codemirror_mode": {
    "name": "ipython",
    "version": 3
   },
   "file_extension": ".py",
   "mimetype": "text/x-python",
   "name": "python",
   "nbconvert_exporter": "python",
   "pygments_lexer": "ipython3",
   "version": "3.6.4"
  }
 },
 "nbformat": 4,
 "nbformat_minor": 2
}
